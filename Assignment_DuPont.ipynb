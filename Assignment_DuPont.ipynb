{
  "nbformat": 4,
  "nbformat_minor": 0,
  "metadata": {
    "colab": {
      "name": "Assignment_DuPont.ipynb",
      "provenance": [],
      "collapsed_sections": [],
      "authorship_tag": "ABX9TyO/vyZIqknS0uwotZr+XJol",
      "include_colab_link": true
    },
    "kernelspec": {
      "name": "python3",
      "display_name": "Python 3"
    },
    "language_info": {
      "name": "python"
    }
  },
  "cells": [
    {
      "cell_type": "markdown",
      "metadata": {
        "id": "view-in-github",
        "colab_type": "text"
      },
      "source": [
        "<a href=\"https://colab.research.google.com/github/RahulAdepu1/IT496/blob/main/Assignment_DuPont.ipynb\" target=\"_parent\"><img src=\"https://colab.research.google.com/assets/colab-badge.svg\" alt=\"Open In Colab\"/></a>"
      ]
    },
    {
      "cell_type": "code",
      "execution_count": 58,
      "metadata": {
        "id": "gh4LG5wesiMc"
      },
      "outputs": [],
      "source": [
        "import requests\n",
        "import pandas as pd\n",
        "\n",
        "myAPIKey = '2d89f1ef931709b67725fae252df20b6'\n",
        "\n",
        "stock = 'MSFT'\n",
        "balanceStatements = requests.get(f\"https://financialmodelingprep.com/api/v3/balance-sheet-statement/{stock}?apikey={myAPIKey}\").json()\n",
        "\n",
        "incomeStatements = requests.get(f\"https://financialmodelingprep.com/api/v3/income-statement/{stock}?apikey={myAPIKey}\").json()"
      ]
    },
    {
      "cell_type": "code",
      "source": [
        "print(balanceStatements[1])"
      ],
      "metadata": {
        "colab": {
          "base_uri": "https://localhost:8080/"
        },
        "id": "per5H4yTsvMD",
        "outputId": "42375ec2-0ac4-466c-efa4-721823f88225"
      },
      "execution_count": 59,
      "outputs": [
        {
          "output_type": "stream",
          "name": "stdout",
          "text": [
            "{'date': '2020-06-30', 'symbol': 'MSFT', 'reportedCurrency': 'USD', 'cik': '0000789019', 'fillingDate': '2020-07-30', 'acceptedDate': '2020-07-30 20:44:46', 'calendarYear': '2020', 'period': 'FY', 'cashAndCashEquivalents': 13576000000, 'shortTermInvestments': 122951000000, 'cashAndShortTermInvestments': 136527000000, 'netReceivables': 32011000000, 'inventory': 1895000000, 'otherCurrentAssets': 11482000000, 'totalCurrentAssets': 181915000000, 'propertyPlantEquipmentNet': 52904000000, 'goodwill': 43351000000, 'intangibleAssets': 7038000000, 'goodwillAndIntangibleAssets': 50389000000, 'longTermInvestments': 2965000000, 'taxAssets': 0.0, 'otherNonCurrentAssets': 13138000000, 'totalNonCurrentAssets': 119396000000, 'otherAssets': 0.0, 'totalAssets': 301311000000, 'accountPayables': 12530000000, 'shortTermDebt': 3749000000, 'taxPayables': 2130000000, 'deferredRevenue': 36000000000, 'otherCurrentLiabilities': 20031000000, 'totalCurrentLiabilities': 72310000000, 'longTermDebt': 67249000000, 'deferredRevenueNonCurrent': 3180000000, 'deferredTaxLiabilitiesNonCurrent': 204000000, 'otherNonCurrentLiabilities': 40064000000, 'totalNonCurrentLiabilities': 110697000000, 'otherLiabilities': 0.0, 'capitalLeaseObligations': 7671000000, 'totalLiabilities': 183007000000, 'preferredStock': 0.0, 'commonStock': 80552000000, 'retainedEarnings': 34566000000, 'accumulatedOtherComprehensiveIncomeLoss': 3186000000, 'othertotalStockholdersEquity': 0.0, 'totalStockholdersEquity': 118304000000, 'totalLiabilitiesAndStockholdersEquity': 301311000000, 'minorityInterest': 0, 'totalEquity': 118304000000, 'totalLiabilitiesAndTotalEquity': 301311000000, 'totalInvestments': 125916000000, 'totalDebt': 70998000000, 'netDebt': 57422000000, 'link': 'https://www.sec.gov/Archives/edgar/data/789019/000156459020034944/0001564590-20-034944-index.htm', 'finalLink': 'https://www.sec.gov/Archives/edgar/data/789019/000156459020034944/msft-10k_20200630.htm'}\n"
          ]
        }
      ]
    },
    {
      "cell_type": "code",
      "source": [
        "#The number from the two most recent years\n",
        "fiveYearBalanceStatement = balanceStatements[:5]\n",
        "fiveYearIncomeStatement = incomeStatements[:5]"
      ],
      "metadata": {
        "id": "QyKCN5F3sxYy"
      },
      "execution_count": 60,
      "outputs": []
    },
    {
      "cell_type": "code",
      "source": [
        "#Calculate profitability, assetTurnOver, and capitalStructure\n",
        "\n",
        "#profitability is net margin\n",
        "profitability =  []\n",
        "\n",
        "#assetTurnOver is net Asset Turnover\n",
        "assetTurnOver =  []\n",
        "\n",
        "#capitalStructure is Leverage\n",
        "capitalStructure = []\n",
        "\n",
        "#returnOnEquity is Retutn on Investment (DuPont)\n",
        "returnOnEquity = []\n",
        "year = []\n",
        "\n",
        "#Getting Details\n",
        "for i in range(0,5):\n",
        "  profitabilityValue = fiveYearIncomeStatement[i]['netIncome']/fiveYearIncomeStatement[i]['revenue']\n",
        "  profitability.append(profitabilityValue)\n",
        "  assetTurnOverValue = fiveYearIncomeStatement[i]['revenue']/fiveYearBalanceStatement[i]['totalAssets']\n",
        "  assetTurnOver.append(assetTurnOverValue)\n",
        "  capitalStructureValue = fiveYearBalanceStatement[i]['totalAssets']/fiveYearBalanceStatement[i]['totalStockholdersEquity']\n",
        "  capitalStructure.append(capitalStructureValue)\n",
        "  returnOnEquityValue = profitabilityValue*assetTurnOverValue*capitalStructureValue\n",
        "  returnOnEquity.append(returnOnEquityValue)\n",
        "\n",
        "  year.append(fiveYearIncomeStatement[i]['calendarYear'])"
      ],
      "metadata": {
        "id": "7XOJqo-Hszch"
      },
      "execution_count": 61,
      "outputs": []
    },
    {
      "cell_type": "code",
      "source": [
        "#Checking the values of years\n",
        "print(year)\n",
        "\n",
        "#Checking the values of each list\n",
        "print(assetTurnOver)\n",
        "print(capitalStructure)\n",
        "print(profitability)\n",
        "print(returnOnEquity)"
      ],
      "metadata": {
        "colab": {
          "base_uri": "https://localhost:8080/"
        },
        "id": "eRAKauhBs1cU",
        "outputId": "6b98edd0-5859-44f4-bc1c-e4be779f73f3"
      },
      "execution_count": 62,
      "outputs": [
        {
          "output_type": "stream",
          "name": "stdout",
          "text": [
            "['2021', '2020', '2019', '2018', '2017']\n",
            "[0.5035906992351227, 0.4746424790332912, 0.43915674423149403, 0.4263505995796761, 0.3731033738997702]\n",
            "[2.3507549933797223, 2.5469214903976196, 2.8003127137691783, 3.1292826228874007, 3.330193109926237]\n",
            "[0.36451739564989766, 0.3096248645247002, 0.3118171054409065, 0.1501540413193186, 0.23573096164535853]\n",
            "[0.4315223821731414, 0.37429841763592103, 0.3834652594547054, 0.20033124591987234, 0.2928972014255325]\n"
          ]
        }
      ]
    },
    {
      "cell_type": "code",
      "source": [
        "import numpy as np\n",
        "import matplotlib.pyplot as plt\n",
        "\n",
        "#Asset Turnover (Sales/Total Assets) -> Bar Chart - (assetTurnOver)\n",
        "#Leverage (Total Assets/Net Worth) -> Bar Chart - (capitalStructure)\n",
        "#Net Margin -> Line Chart - (profitability)\n",
        "#Return on Equity -> Line Chart - (returnOnEquity) \n",
        "\n",
        "labels = ['Return on Equity','Net Margin (profitability)','Asset Turnover','Leverage (capitalStructure)']\n",
        "xpos = np.arange(len(year))\n",
        "plt.xticks(xpos, year)\n",
        "plt.bar(xpos + 0.0, assetTurnOver, color = 'tomato', width = 0.2)\n",
        "plt.bar(xpos + 0.2, capitalStructure, color = 'firebrick', width = 0.2)\n",
        "plt.plot(xpos, returnOnEquity, color = 'royalblue')\n",
        "plt.plot(xpos, profitability, color = 'turquoise')\n",
        "\n",
        "\n",
        "plt.title(\"DuPont Chart\")\n",
        "plt.xlabel(\"Year\")\n",
        "\n",
        "# Put a legend below current axis\n",
        "plt.legend(labels, loc='upper center', bbox_to_anchor=(0.5, -0.15),\n",
        "          fancybox=True, shadow=True, ncol=2)\n",
        "\n",
        "plt.show()"
      ],
      "metadata": {
        "colab": {
          "base_uri": "https://localhost:8080/",
          "height": 335
        },
        "id": "HXvlOAqys5D4",
        "outputId": "fbbff426-0f11-42bc-b468-b62cce682b08"
      },
      "execution_count": 63,
      "outputs": [
        {
          "output_type": "display_data",
          "data": {
            "image/png": "[encoded data removed]",
            "text/plain": [
              "<Figure size 432x288 with 1 Axes>"
            ]
          },
          "metadata": {
            "needs_background": "light"
          }
        }
      ]
    }
  ]
}