{
  "nbformat": 4,
  "nbformat_minor": 0,
  "metadata": {
    "colab": {
      "name": "DuPont.ipynb",
      "provenance": [],
      "authorship_tag": "ABX9TyN/AaEcAEU/MCwh+ImQnOGK",
      "include_colab_link": true
    },
    "kernelspec": {
      "name": "python3",
      "display_name": "Python 3"
    },
    "language_info": {
      "name": "python"
    }
  },
  "cells": [
    {
      "cell_type": "markdown",
      "metadata": {
        "id": "view-in-github",
        "colab_type": "text"
      },
      "source": [
        "<a href=\"https://colab.research.google.com/github/RahulAdepu1/IT496/blob/main/DuPont.ipynb\" target=\"_parent\"><img src=\"https://colab.research.google.com/assets/colab-badge.svg\" alt=\"Open In Colab\"/></a>"
      ]
    },
    {
      "cell_type": "code",
      "execution_count": 31,
      "metadata": {
        "id": "6ZhZenh3io5_"
      },
      "outputs": [],
      "source": [
        "import requests\n",
        "import pandas as pd\n",
        "\n",
        "myAPIKey = '2d89f1ef931709b67725fae252df20b6'\n",
        "\n",
        "stock = 'MSFT'\n",
        "balanceStatements = requests.get(f\"https://financialmodelingprep.com/api/v3/balance-sheet-statement/{stock}?apikey={myAPIKey}\").json()\n",
        "\n",
        "incomeStatements = requests.get(f\"https://financialmodelingprep.com/api/v3/income-statement/{stock}?apikey={myAPIKey}\").json()"
      ]
    },
    {
      "cell_type": "code",
      "source": [
        "print(balanceStatements[1])"
      ],
      "metadata": {
        "colab": {
          "base_uri": "https://localhost:8080/"
        },
        "id": "tJ-CPXVbjZda",
        "outputId": "b6d91432-8022-426f-ee3d-0f94f1f60443"
      },
      "execution_count": 32,
      "outputs": [
        {
          "output_type": "stream",
          "name": "stdout",
          "text": [
            "{'date': '2020-06-30', 'symbol': 'MSFT', 'reportedCurrency': 'USD', 'cik': '0000789019', 'fillingDate': '2020-07-30', 'acceptedDate': '2020-07-30 20:44:46', 'calendarYear': '2020', 'period': 'FY', 'cashAndCashEquivalents': 13576000000, 'shortTermInvestments': 122951000000, 'cashAndShortTermInvestments': 136527000000, 'netReceivables': 32011000000, 'inventory': 1895000000, 'otherCurrentAssets': 11482000000, 'totalCurrentAssets': 181915000000, 'propertyPlantEquipmentNet': 52904000000, 'goodwill': 43351000000, 'intangibleAssets': 7038000000, 'goodwillAndIntangibleAssets': 50389000000, 'longTermInvestments': 2965000000, 'taxAssets': 0.0, 'otherNonCurrentAssets': 13138000000, 'totalNonCurrentAssets': 119396000000, 'otherAssets': 0.0, 'totalAssets': 301311000000, 'accountPayables': 12530000000, 'shortTermDebt': 3749000000, 'taxPayables': 2130000000, 'deferredRevenue': 36000000000, 'otherCurrentLiabilities': 20031000000, 'totalCurrentLiabilities': 72310000000, 'longTermDebt': 67249000000, 'deferredRevenueNonCurrent': 3180000000, 'deferredTaxLiabilitiesNonCurrent': 204000000, 'otherNonCurrentLiabilities': 40064000000, 'totalNonCurrentLiabilities': 110697000000, 'otherLiabilities': 0.0, 'capitalLeaseObligations': 7671000000, 'totalLiabilities': 183007000000, 'preferredStock': 0.0, 'commonStock': 80552000000, 'retainedEarnings': 34566000000, 'accumulatedOtherComprehensiveIncomeLoss': 3186000000, 'othertotalStockholdersEquity': 0.0, 'totalStockholdersEquity': 118304000000, 'totalLiabilitiesAndStockholdersEquity': 301311000000, 'minorityInterest': 0, 'totalEquity': 118304000000, 'totalLiabilitiesAndTotalEquity': 301311000000, 'totalInvestments': 125916000000, 'totalDebt': 70998000000, 'netDebt': 57422000000, 'link': 'https://www.sec.gov/Archives/edgar/data/789019/000156459020034944/0001564590-20-034944-index.htm', 'finalLink': 'https://www.sec.gov/Archives/edgar/data/789019/000156459020034944/msft-10k_20200630.htm'}\n"
          ]
        }
      ]
    },
    {
      "cell_type": "code",
      "source": [
        "#The number from the two most recent years\n",
        "twoYearBalanceStatement = balanceStatements[:2]\n",
        "twoYearIncomeStatement = incomeStatements[:2]"
      ],
      "metadata": {
        "id": "Zte1EJBujcvC"
      },
      "execution_count": 33,
      "outputs": []
    },
    {
      "cell_type": "code",
      "source": [
        "#Calculate profitability, assetTurnOver, and capitalStructure\n",
        "profitability =  []\n",
        "assetTurnOver =  []\n",
        "capitalStructure = []\n",
        "returnOnEquity = []\n",
        "\n",
        "#Getting Details\n",
        "for i in range(0,2):\n",
        "  profitabilityValue = twoYearIncomeStatement[i]['netIncome']/twoYearIncomeStatement[i]['revenue']\n",
        "  profitability.append(profitabilityValue)\n",
        "  assetTurnOverValue = twoYearIncomeStatement[i]['revenue']/twoYearBalanceStatement[i]['totalAssets']\n",
        "  assetTurnOver.append(assetTurnOverValue)\n",
        "  capitalStructureValue = twoYearBalanceStatement[i]['totalAssets']/twoYearBalanceStatement[i]['totalStockholdersEquity']\n",
        "  capitalStructure.append(capitalStructureValue)\n",
        "  returnOnEquityValue = profitabilityValue*assetTurnOverValue*capitalStructureValue\n",
        "  returnOnEquity.append(returnOnEquityValue)"
      ],
      "metadata": {
        "id": "dznUC9KHjxID"
      },
      "execution_count": 34,
      "outputs": []
    },
    {
      "cell_type": "code",
      "source": [
        "print(returnOnEquity)"
      ],
      "metadata": {
        "colab": {
          "base_uri": "https://localhost:8080/"
        },
        "id": "_fuGl7ZQklF4",
        "outputId": "a4f0bc31-9d48-438d-f3b7-a57b65ca1372"
      },
      "execution_count": 35,
      "outputs": [
        {
          "output_type": "stream",
          "name": "stdout",
          "text": [
            "[0.4315223821731414, 0.37429841763592103]\n"
          ]
        }
      ]
    }
  ]
}