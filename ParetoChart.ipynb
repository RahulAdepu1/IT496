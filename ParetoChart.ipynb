{
  "nbformat": 4,
  "nbformat_minor": 0,
  "metadata": {
    "colab": {
      "name": "ParetoChart.ipynb",
      "provenance": [],
      "collapsed_sections": [],
      "mount_file_id": "11pe3zUyokeFHjvO7S5a23hX4cA8NLqSW",
      "authorship_tag": "ABX9TyOsO5G/xEhsvKLlEQ1Wi3fN",
      "include_colab_link": true
    },
    "kernelspec": {
      "name": "python3",
      "display_name": "Python 3"
    },
    "language_info": {
      "name": "python"
    }
  },
  "cells": [
    {
      "cell_type": "markdown",
      "metadata": {
        "id": "view-in-github",
        "colab_type": "text"
      },
      "source": [
        "<a href=\"https://colab.research.google.com/github/RahulAdepu1/IT496/blob/main/ParetoChart.ipynb\" target=\"_parent\"><img src=\"https://colab.research.google.com/assets/colab-badge.svg\" alt=\"Open In Colab\"/></a>"
      ]
    },
    {
      "cell_type": "code",
      "execution_count": null,
      "metadata": {
        "colab": {
          "base_uri": "https://localhost:8080/"
        },
        "id": "KG4uy-YObi2I",
        "outputId": "3eb41eff-6057-49d9-f88f-0114d5ae1bc1"
      },
      "outputs": [
        {
          "output_type": "stream",
          "name": "stdout",
          "text": [
            "       reason                         description  frequency\n",
            "0         ERP                    myIllinoinsState          7\n",
            "1         VPN                connection from home         10\n",
            "2       email                   unable to message         18\n",
            "3         PCs  office computers for staff/faculty         12\n",
            "4     printer                     unable to print         10\n",
            "5    internet                   connection issues         22\n",
            "6   ReggieNet            issues accesing features          8\n",
            "7      mobile       mobile devices not connecting         14\n",
            "8    password               password reset issues         11\n",
            "9        VoIP  phone / voice message difficulties         15\n",
            "10   hardware             general hardware issues         25\n",
            "11  Office365             question accessing apps         13\n"
          ]
        }
      ],
      "source": [
        "import pandas as pd\n",
        "import matplotlib.pyplot as plt\n",
        "from matplotlib.ticker import PercentFormatter\n",
        "\n",
        "#upload the HelpDesk.csv to your Google Drive\n",
        "df = pd.read_csv(\"/content/drive/MyDrive/IT 496/HelpDesk.csv\")\n",
        "print(df)"
      ]
    },
    {
      "cell_type": "code",
      "source": [
        "#set this column as index - to use as plot labels\n",
        "df.index = df['reason']\n",
        "#descending sort\n",
        "df = df.sort_values(by = 'frequency', ascending = False)\n",
        "print(df)"
      ],
      "metadata": {
        "colab": {
          "base_uri": "https://localhost:8080/"
        },
        "id": "Ar-oVqm9cazR",
        "outputId": "1994a4a5-4cfd-4a40-e8ac-7bc3f2d9da2e"
      },
      "execution_count": null,
      "outputs": [
        {
          "output_type": "stream",
          "name": "stdout",
          "text": [
            "              reason                         description  frequency\n",
            "reason                                                             \n",
            "hardware    hardware             general hardware issues         25\n",
            "internet    internet                   connection issues         22\n",
            "email          email                   unable to message         18\n",
            "VoIP            VoIP  phone / voice message difficulties         15\n",
            "mobile        mobile       mobile devices not connecting         14\n",
            "Office365  Office365             question accessing apps         13\n",
            "PCs              PCs  office computers for staff/faculty         12\n",
            "password    password               password reset issues         11\n",
            "VPN              VPN                connection from home         10\n",
            "printer      printer                     unable to print         10\n",
            "ReggieNet  ReggieNet            issues accesing features          8\n",
            "ERP              ERP                    myIllinoinsState          7\n"
          ]
        }
      ]
    },
    {
      "cell_type": "code",
      "source": [
        "#cumulative percentage column is created using cumsum function\n",
        "df[\"cumulativePercentage\"] = df[\"frequency\"].cumsum()/df[\"frequency\"].sum()*100\n",
        "\n",
        "df[\"cumulativePercentage\"] = df[\"cumulativePercentage\"].apply(lambda x: round(x,2))\n",
        "print(df)"
      ],
      "metadata": {
        "colab": {
          "base_uri": "https://localhost:8080/"
        },
        "id": "tCC06M7mcv5N",
        "outputId": "7ddd94a3-fab8-4b51-dd98-008b0c8c1de1"
      },
      "execution_count": null,
      "outputs": [
        {
          "output_type": "stream",
          "name": "stdout",
          "text": [
            "              reason  ... cumulativePercentage\n",
            "reason                ...                     \n",
            "hardware    hardware  ...                15.15\n",
            "internet    internet  ...                28.48\n",
            "email          email  ...                39.39\n",
            "VoIP            VoIP  ...                48.48\n",
            "mobile        mobile  ...                56.97\n",
            "Office365  Office365  ...                64.85\n",
            "PCs              PCs  ...                72.12\n",
            "password    password  ...                78.79\n",
            "VPN              VPN  ...                84.85\n",
            "printer      printer  ...                90.91\n",
            "ReggieNet  ReggieNet  ...                95.76\n",
            "ERP              ERP  ...               100.00\n",
            "\n",
            "[12 rows x 4 columns]\n"
          ]
        }
      ]
    },
    {
      "cell_type": "code",
      "source": [
        "flg, ax = plt.subplots()\n",
        "ax.bar(df.index, df[\"frequency\"], color = \"C0\")\n",
        "\n",
        "#show labels diagonally\n",
        "ax.set_xticklabels( df['reason'], rotation = 45)\n",
        "\n",
        "#ax2 and ax1 wil be shown at the same time with twinx\n",
        "ax2 = ax.twinx()\n",
        "\n",
        "ax2.plot(df.index, df[\"cumulativePercentage\"], color = \"C1\", marker=\"D\", ms = 7)\n",
        "ax2.yaxis.set_major_formatter(PercentFormatter())\n",
        "\n",
        "ax.tick_params(axis = \"y\", colors = \"C0\")\n",
        "ax2.tick_params(axis = \"y\", colors = \"C1\")\n",
        "\n",
        "plt.show()"
      ],
      "metadata": {
        "colab": {
          "base_uri": "https://localhost:8080/",
          "height": 299
        },
        "id": "HkLKAVCWdEQt",
        "outputId": "9463c421-b02e-4104-d603-c044cdf3a82f"
      },
      "execution_count": null,
      "outputs": [
        {
          "output_type": "display_data",
          "data": {
            "image/png": "[encoded data removed]",
            "text/plain": [
              "<Figure size 432x288 with 2 Axes>"
            ]
          },
          "metadata": {}
        }
      ]
    },
    {
      "cell_type": "code",
      "source": [
        "#upload the HelpDesk.csv to your Google Drive\n",
        "attempt1 = pd.read_csv(\"/content/drive/MyDrive/IT 496/HelpDesk.csv\")\n",
        "\n",
        "#set this column as index - to use as plot labels\n",
        "attempt1.index = attempt1['reason']\n",
        "\n",
        "#descending sort\n",
        "attempt1 = attempt1.sort_values(by = 'frequency', ascending = False)\n",
        "print(attempt1)"
      ],
      "metadata": {
        "colab": {
          "base_uri": "https://localhost:8080/"
        },
        "id": "R_o3AAhVhjRZ",
        "outputId": "6ac6406b-cdc0-43b8-b8e7-fa6e50103ffd"
      },
      "execution_count": null,
      "outputs": [
        {
          "output_type": "stream",
          "name": "stdout",
          "text": [
            "              reason                         description  frequency\n",
            "reason                                                             \n",
            "hardware    hardware             general hardware issues         25\n",
            "internet    internet                   connection issues         22\n",
            "email          email                   unable to message         18\n",
            "VoIP            VoIP  phone / voice message difficulties         15\n",
            "mobile        mobile       mobile devices not connecting         14\n",
            "Office365  Office365             question accessing apps         13\n",
            "PCs              PCs  office computers for staff/faculty         12\n",
            "password    password               password reset issues         11\n",
            "VPN              VPN                connection from home         10\n",
            "printer      printer                     unable to print         10\n",
            "ReggieNet  ReggieNet            issues accesing features          8\n",
            "ERP              ERP                    myIllinoinsState          7\n"
          ]
        }
      ]
    },
    {
      "cell_type": "code",
      "source": [
        "#cumulative percentage column is created using cumsum function\n",
        "attempt1[\"cumulativePercentage\"] = attempt1[\"frequency\"].cumsum()/attempt1[\"frequency\"].sum()*100\n",
        "attempt1[\"cumulativePercentage\"] = attempt1[\"cumulativePercentage\"].apply(lambda x: round(x,2))\n",
        "attempt1= attempt1[attempt1.cumulativePercentage <= 80]\n"
      ],
      "metadata": {
        "id": "S0MfgT_5ipv3"
      },
      "execution_count": null,
      "outputs": []
    },
    {
      "cell_type": "code",
      "source": [
        "flg, ax = plt.subplots()\n",
        "ax.bar(attempt1.index, attempt1[\"frequency\"], color = \"C0\")\n",
        "\n",
        "#show labels diagonally\n",
        "ax.set_xticklabels( attempt1['reason'], rotation = 45)\n",
        "\n",
        "#ax2 and ax1 wil be shown at the same time with twinx\n",
        "ax2 = ax.twinx()\n",
        "\n",
        "ax2.plot(attempt1.index, attempt1[\"cumulativePercentage\"], color = \"C1\", marker=\"D\", ms = 7)\n",
        "ax2.yaxis.set_major_formatter(PercentFormatter())\n",
        "\n",
        "ax.tick_params(axis = \"y\", colors = \"C0\")\n",
        "ax2.tick_params(axis = \"y\", colors = \"C1\")\n",
        "\n",
        "plt.show()"
      ],
      "metadata": {
        "colab": {
          "base_uri": "https://localhost:8080/",
          "height": 297
        },
        "id": "XVuoxcGorWAd",
        "outputId": "e1b706fc-3454-42ee-b70a-bc57b069bfc2"
      },
      "execution_count": null,
      "outputs": [
        {
          "output_type": "display_data",
          "data": {
            "image/png": "[encoded data removed]",
            "text/plain": [
              "<Figure size 432x288 with 2 Axes>"
            ]
          },
          "metadata": {}
        }
      ]
    },
    {
      "cell_type": "code",
      "source": [
        ""
      ],
      "metadata": {
        "id": "DXCHpmPLkflV"
      },
      "execution_count": null,
      "outputs": []
    }
  ]
}